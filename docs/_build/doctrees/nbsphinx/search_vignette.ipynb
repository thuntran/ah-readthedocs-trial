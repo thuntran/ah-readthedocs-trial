{
 "cells": [
  {
   "cell_type": "markdown",
   "metadata": {},
   "source": [
    "# The Search Module\n"
   ]
  },
  {
   "cell_type": "markdown",
   "metadata": {},
   "source": [
    "The `search` module of the `mirah` package holds functions used to find and record the diagonals in the thresholded matrix, T. These functions prepare the found diagonals to later be transformed and assembled.\n",
    "\n",
    "- **find_complete_list**: Finds all smaller diagonals (and the associated pairs of repeats) that are contained pair_list, which is composed of larger diagonals found in `find_initial_repeats`. \n",
    "\n",
    "- **\\_\\_find_add_srows**: Finds pairs of repeated structures, represented as diagonals of a certain length, k, that start at the same time step as previously found pairs of repeated structures of the same length.\n",
    "\n",
    "- **\\_\\_find_add_erows**: Finds pairs of repeated structures, represented as diagonals of a certain length, k, that end at the same time step as previously found pairs of repeated structures of the same length.\n",
    "\n",
    "- **\\_\\_find_add_mrows** - Finds pairs of repeated structures, represented as diagonals of a certain length, k, that neither start nor end at the same time steps as previously found pairs of repeated structures of the same length.   \n",
    "\n",
    "- **find_all_repeats**: Finds all the diagonals present in *thresh\\_mat*. This function is nearly identical to `find_initial_repeats`, with two crucial differences. First, we do not remove diagonals after we find them. Second, there is no smallest bandwidth size as we are looking for all diagonals.\n",
    "\n",
    "- **find_complete_list_anno_only**: Finds annotations for all pairs of repeats found in find_all_repeats. This list contains all the pairs of repeated structures with their start/end indices and lengths.    \n",
    "\n",
    "The following functions are imported from the [`utilities`](./utilities_vignette.ipynb) module to reformat outputs and assist with the operations of the [`search`](./search_vignette.ipynb) functions.  \n",
    "\n",
    "- `add_annotations`\n",
    "\n",
    "For more in depth information on the function calls, an example function pipeline is shown below. Functions from the current module are shown in purple.\n",
    "\n",
    "![alt text](pictures/function_pipeline.png)"
   ]
  },
  {
   "cell_type": "markdown",
   "metadata": {},
   "source": [
    "### Importing necessary modules"
   ]
  },
  {
   "cell_type": "code",
   "execution_count": 58,
   "metadata": {},
   "outputs": [],
   "source": [
    "# NumPy is used for mathematical calculations \n",
    "import numpy as np\n",
    "\n",
    "# Import search\n",
    "current_dir = os.path.dirname(os.path.realpath('__file__'))\n",
    "relative_path = os.path.join(current_dir, '..')\n",
    "sys.path.append(relative_path)\n",
    "import mirah\n",
    "from mirah.search import *\n",
    "from mirah.search import __find_add_srows, __find_add_erows"
   ]
  },
  {
   "cell_type": "markdown",
   "metadata": {},
   "source": [
    "\n",
    "## find_complete_list\n",
    "\n",
    "As seen in the flow chart, `find_intial_repeats` is called by `example` right before `find_complete_list`. In `find_complete_list`, smaller pairs of repeats are added to the original list of pairs of repeats made in `find_initial_repeats`. All of the pairs of repeats correspond to each repeated structure in another numpy array called *thresh\\_mat*. This array holds all the repeated structures in a sequential data stream and the repeated structures are represented as diagonals.   \n",
    "\n",
    "The inputs for the function are:\n",
    "\n",
    "- __pair_list__ (np.ndarray): Pairs of repeats found in [`find_initial_repeats.py`](./utilities_vignette.ipynb). \n",
    "   \n",
    "- __song_length__ (int): The number of audio shingles  \n",
    "\n",
    "The output for the function is: \n",
    "\n",
    "- __lst_out__ (np.ndarray): Pairs of repeats with the added smaller repeats   "
   ]
  },
  {
   "cell_type": "code",
   "execution_count": 59,
   "metadata": {},
   "outputs": [
    {
     "name": "stdout",
     "output_type": "stream",
     "text": [
      "The input array is: \n",
      " [[ 1 10 46 55 10]\n",
      " [31 40 46 55 10]\n",
      " [10 20 40 50 11]\n",
      " [ 1 15 31 45 15]]\n",
      "The number of audio shingles is: \n",
      " 55\n"
     ]
    }
   ],
   "source": [
    "pair_list = np.array([[ 1, 10, 46, 55, 10], \n",
    "                      [31, 40, 46, 55, 10],\n",
    "                      [10, 20, 40, 50, 11],\n",
    "                      [ 1, 15, 31, 45, 15]])\n",
    "song_length = 55\n",
    "\n",
    "print(\"The input array is: \\n\", pair_list)\n",
    "print(\"The number of audio shingles is: \\n\", song_length)"
   ]
  },
  {
   "cell_type": "code",
   "execution_count": 60,
   "metadata": {},
   "outputs": [
    {
     "name": "stdout",
     "output_type": "stream",
     "text": [
      "The output array is: \n",
      " [[11 15 41 45  5  1]\n",
      " [ 1 10 31 40 10  1]\n",
      " [ 1 10 46 55 10  1]\n",
      " [31 40 46 55 10  1]\n",
      " [10 20 40 50 11  1]\n",
      " [ 1 15 31 45 15  1]]\n"
     ]
    }
   ],
   "source": [
    "output = find_complete_list(pair_list, song_length)\n",
    "\n",
    "print(\"The output array is: \\n\", output)"
   ]
  },
  {
   "cell_type": "markdown",
   "metadata": {},
   "source": [
    "In this example, there are two more added rows from \\_\\_find_add_srows. When the array goes into \\_\\_find_add_srows, the repeats are like this:\n",
    "![alt text](pictures/find_all_repeats1.png)\n",
    "\n",
    "Each row represents a pair of repeats, and each column represents a time step. The time steps with color black are the starting indices for repeats of length k that we use to check lst_no_anno for more repeats of length k.\n",
    "\n",
    "![alt text](pictures/find_all_repeats2.png)\n",
    "\n",
    "With the same starting indices and same length, we can find the same repeats in color yellow.  \n",
    "\n",
    "![alt text](pictures/find_all_repeats3.png)\n",
    "Then we find two more groups of repeats. \n"
   ]
  },
  {
   "cell_type": "markdown",
   "metadata": {},
   "source": [
    "## \\_\\_find_add_srows\n",
    "\n",
    "`__find_add_srows` finds pairs of repeated structures, representated as diagonals of a certain length that start at the same time step as previously found pairs of repeated structures of the same length. \n",
    "\n",
    "The inputs for the function are: \n",
    "\n",
    "- __lst_no_anno__ (np.ndarray): Pairs of repeats      \n",
    "- __check_inds__ (np.ndarray): List of starting indices of repeats \n",
    "- __k__ (int): Length of repeat that we are looking for\n",
    "\n",
    "The out for the function is: \n",
    "- __add_rows__ (np.ndarray): Newly found pairs of repeats of length *k*\n"
   ]
  },
  {
   "cell_type": "code",
   "execution_count": 61,
   "metadata": {},
   "outputs": [
    {
     "name": "stdout",
     "output_type": "stream",
     "text": [
      "The input array is: \n",
      " [[ 1 10 46 55 10]\n",
      " [31 40 46 55 10]\n",
      " [10 20 40 50 11]\n",
      " [ 1 15 31 45 15]]\n",
      "The indices of repeats to check: \n",
      " [ 1 31 46]\n",
      "The length of repeat we are searching for: \n",
      " 10\n"
     ]
    }
   ],
   "source": [
    "lst_no_anno = np.array([[ 1, 10, 46, 55, 10],\n",
    "                        [31, 40, 46, 55, 10],\n",
    "                        [10, 20, 40, 50, 11],\n",
    "                        [ 1, 15, 31, 45, 15]])\n",
    "check_inds = np.array([1, 31, 46])\n",
    "k = 10\n",
    "\n",
    "print(\"The input array is: \\n\", lst_no_anno)\n",
    "print(\"The indices of repeats to check: \\n\", check_inds)\n",
    "print(\"The length of repeat we are searching for: \\n\", k)"
   ]
  },
  {
   "cell_type": "code",
   "execution_count": 62,
   "metadata": {},
   "outputs": [
    {
     "name": "stdout",
     "output_type": "stream",
     "text": [
      "The output array is: \n",
      " [[ 1 10 31 40 10]\n",
      " [11 15 41 45  5]\n",
      " [ 1 10 31 40 10]\n",
      " [11 15 41 45  5]]\n"
     ]
    }
   ],
   "source": [
    "output = __find_add_srows(lst_no_anno, check_inds, k)\n",
    "\n",
    "print(\"The output array is: \\n\", output)"
   ]
  },
  {
   "cell_type": "markdown",
   "metadata": {},
   "source": [
    "## \\_\\_find_add_erows\n",
    "\n",
    "`__find_add_erows` finds pairs of repeated structures, representated as diagonals of a \n",
    "certain length that end at the same time step as previously found pairs of repeated structures of the same length.\n",
    "\n",
    "The inputs for the functions are: \n",
    "\n",
    "- __lst_no_anno__ (np.ndarray): Pairs of repeats\n",
    "- __check_inds__ (np.ndarray): List of ending indices of repeats\n",
    "- __k__ (int): Length of repeats that we are looking for \n",
    "\n",
    "The output for the function is: \n",
    "- __add_rows__ (np.ndarray): Newly found pairs of repeats of length *k*"
   ]
  },
  {
   "cell_type": "markdown",
   "metadata": {},
   "source": [
    "**Example 1** "
   ]
  },
  {
   "cell_type": "code",
   "execution_count": 63,
   "metadata": {},
   "outputs": [
    {
     "name": "stdout",
     "output_type": "stream",
     "text": [
      "The input array is: \n",
      " [[ 1 10 46 55 10]\n",
      " [31 40 46 55 10]\n",
      " [10 20 40 50 11]\n",
      " [ 1 15 31 45 15]]\n",
      "The indices of repeats to check: \n",
      " [10 40 55]\n",
      "The length of repeat we are searching for: \n",
      " 10\n"
     ]
    }
   ],
   "source": [
    "lst_no_anno = np.array([[ 1, 10, 46, 55, 10],\n",
    "                        [31, 40, 46, 55, 10],\n",
    "                        [10, 20, 40, 50, 11],\n",
    "                        [ 1, 15, 31, 45, 15]])\n",
    "check_inds = np.array([10, 40, 55])\n",
    "k = 10\n",
    "\n",
    "print(\"The input array is: \\n\", lst_no_anno)\n",
    "print(\"The indices of repeats to check: \\n\", check_inds)\n",
    "print(\"The length of repeat we are searching for: \\n\", k)"
   ]
  },
  {
   "cell_type": "code",
   "execution_count": 64,
   "metadata": {},
   "outputs": [
    {
     "name": "stdout",
     "output_type": "stream",
     "text": [
      "The output array is: \n",
      " []\n"
     ]
    }
   ],
   "source": [
    "output = __find_add_erows(lst_no_anno, check_inds, k)\n",
    "\n",
    "print(\"The output array is: \\n\", output)"
   ]
  },
  {
   "cell_type": "markdown",
   "metadata": {},
   "source": [
    "**Example 2**"
   ]
  },
  {
   "cell_type": "code",
   "execution_count": 65,
   "metadata": {},
   "outputs": [
    {
     "name": "stdout",
     "output_type": "stream",
     "text": [
      "The input array is: \n",
      " [[ 1 10 31 40 10]\n",
      " [31 40 46 55 10]\n",
      " [11 20 36 45 10]\n",
      " [ 1 15 31 45 15]]\n",
      "The indices of repeats to check: \n",
      " [10 20 40 45 55]\n",
      "The length of repeat we are searching for: \n",
      " 10\n"
     ]
    }
   ],
   "source": [
    "lst_no_anno = np.array([[ 1, 10, 31, 40, 10],\n",
    "                        [31, 40, 46, 55, 10],\n",
    "                        [11, 20, 36, 45, 10],\n",
    "                        [ 1, 15, 31, 45, 15]])\n",
    "check_inds = np.array([10, 20, 40, 45, 55])\n",
    "k = 10\n",
    "\n",
    "print(\"The input array is: \\n\", lst_no_anno)\n",
    "print(\"The indices of repeats to check: \\n\", check_inds)\n",
    "print(\"The length of repeat we are searching for: \\n\", k)"
   ]
  },
  {
   "cell_type": "code",
   "execution_count": 66,
   "metadata": {},
   "outputs": [
    {
     "name": "stdout",
     "output_type": "stream",
     "text": [
      "The output array is: \n",
      " [[ 6 15 36 45 10]\n",
      " [ 1  5 31 35  5]]\n"
     ]
    }
   ],
   "source": [
    "output = __find_add_erows(lst_no_anno, check_inds, k)\n",
    "\n",
    "print(\"The output array is: \\n\", output)"
   ]
  },
  {
   "cell_type": "markdown",
   "metadata": {},
   "source": [
    "## \\_\\_find_add_mrows\n",
    "\n",
    "`__find_add_mrows` finds pairs of repeated structures, represented as diagonals of a certain\n",
    "length that neither start nor end at the same time steps as previously\n",
    "found pairs of repeated structures of the same length. \n",
    "\n",
    "The inputs for the functions are: \n",
    "\n",
    "- __lst_no_anno__ (np.ndarray): Pairs of repeats\n",
    "- __check_inds__ (np.ndarray): List of starting indices of repeats\n",
    "- __k__ (int): Length of repeats that we are looking for \n",
    "\n",
    "The output for the function is: \n",
    "- __add_rows__ (np.ndarray): Newly found pairs of repeats of length *k* "
   ]
  },
  {
   "cell_type": "markdown",
   "metadata": {},
   "source": [
    "**Example 1** "
   ]
  },
  {
   "cell_type": "code",
   "execution_count": 67,
   "metadata": {},
   "outputs": [
    {
     "name": "stdout",
     "output_type": "stream",
     "text": [
      "The input array is: \n",
      " [[ 1 10 46 55 10]\n",
      " [31 40 46 55 10]\n",
      " [10 20 40 50 11]\n",
      " [ 1 15 31 45 15]]\n",
      "The indices of repeats to check: \n",
      " [ 1 31 46]\n",
      "The length of repeat we are searching for: \n",
      " 10\n"
     ]
    }
   ],
   "source": [
    "lst_no_anno = np.array([[ 1, 10, 46, 55, 10],\n",
    "                        [31, 40, 46, 55, 10],\n",
    "                        [10, 20, 40, 50, 11],\n",
    "                        [ 1, 15, 31, 45, 15]])\n",
    "check_inds = np.array([1, 31, 46])\n",
    "k = 10\n",
    "\n",
    "print(\"The input array is: \\n\", lst_no_anno)\n",
    "print(\"The indices of repeats to check: \\n\", check_inds)\n",
    "print(\"The length of repeat we are searching for: \\n\", k)"
   ]
  },
  {
   "cell_type": "code",
   "execution_count": 68,
   "metadata": {},
   "outputs": [
    {
     "name": "stdout",
     "output_type": "stream",
     "text": [
      "The output array is: \n",
      " []\n"
     ]
    }
   ],
   "source": [
    "output = __find_add_mrows(lst_no_anno, check_inds, k)\n",
    "\n",
    "print(\"The output array is: \\n\", output)"
   ]
  },
  {
   "cell_type": "markdown",
   "metadata": {},
   "source": [
    "**Example 2** "
   ]
  },
  {
   "cell_type": "code",
   "execution_count": 69,
   "metadata": {},
   "outputs": [
    {
     "name": "stdout",
     "output_type": "stream",
     "text": [
      "The input array is: \n",
      " [[ 1 10 46 55 10]\n",
      " [31 40 46 55 10]\n",
      " [10 19 40 49 10]\n",
      " [ 2 11 47 56 10]\n",
      " [ 1 15 31 45 15]]\n",
      "The indices of repeats to check: \n",
      " [ 1  2 10 31 40 46 47]\n",
      "The length of repeat we are searching for: \n",
      " 10\n"
     ]
    }
   ],
   "source": [
    "lst_no_anno = np.array([[ 1, 10, 46, 55, 10],\n",
    "                        [31, 40, 46, 55, 10],\n",
    "                        [10, 19, 40, 49, 10],\n",
    "                        [ 2, 11, 47, 56, 10],\n",
    "                        [ 1, 15, 31, 45, 15]])\n",
    "check_inds = np.array([1, 2, 10, 31, 40, 46, 47])\n",
    "k = 10\n",
    "\n",
    "print(\"The input array is: \\n\", lst_no_anno)\n",
    "print(\"The indices of repeats to check: \\n\", check_inds)\n",
    "print(\"The length of repeat we are searching for: \\n\", k)"
   ]
  },
  {
   "cell_type": "code",
   "execution_count": 70,
   "metadata": {},
   "outputs": [
    {
     "name": "stdout",
     "output_type": "stream",
     "text": [
      "The output array is: \n",
      " [[ 1  1 31 31  1]\n",
      " [ 2 11 32 41 10]\n",
      " [12 15 42 45  4]]\n"
     ]
    }
   ],
   "source": [
    "output = __find_add_mrows(lst_no_anno, check_inds, k)\n",
    "\n",
    "print(\"The output array is: \\n\", output)"
   ]
  },
  {
   "cell_type": "markdown",
   "metadata": {},
   "source": [
    "##  find_all_repeats \n",
    "\n",
    "`find_all_repeats` Finds all the diagonals present in *thresh\\_mat*. This function is nearly identical to `find_initial_repeats`, with two crucial differences. First, we do not remove diagonals after we find them. Second, there is no smallest bandwidth size as we are looking for all diagonals.\n",
    "\n",
    "The inputs for the function are: \n",
    "\n",
    "- __thresh_mat__ (np.ndarray): Thresholded matrix that we extract diagonals from\n",
    "- __band_width_vec__ (np.ndarray): Vector of lengths of diagonals to be found\n",
    "\n",
    "The output for the function is:\n",
    "\n",
    "- __all_lst__ (np.ndarray): Pairs of repeats that correspond to diagonals in *thresh\\_mat*"
   ]
  },
  {
   "cell_type": "code",
   "execution_count": 71,
   "metadata": {},
   "outputs": [
    {
     "name": "stdout",
     "output_type": "stream",
     "text": [
      "The threshold matrix is: \n",
      " [[1 0 1 0 0]\n",
      " [0 1 0 1 0]\n",
      " [1 0 1 0 1]\n",
      " [0 1 0 1 0]\n",
      " [0 0 1 0 1]]\n",
      "The lengths of the diagonals to be found are: \n",
      " [1 2 3 4 5]\n"
     ]
    }
   ],
   "source": [
    "thresh_mat = np.array([[1, 0, 1, 0, 0],\n",
    "                       [0, 1, 0, 1, 0],\n",
    "                       [1, 0, 1, 0, 1],\n",
    "                       [0, 1, 0, 1, 0],\n",
    "                       [0, 0, 1, 0, 1]])\n",
    "\n",
    "bandwidth_vec = np.array([1, 2, 3, 4, 5])\n",
    "\n",
    "print(\"The threshold matrix is: \\n\", thresh_mat)\n",
    "print(\"The lengths of the diagonals to be found are: \\n\", bandwidth_vec)"
   ]
  },
  {
   "cell_type": "code",
   "execution_count": 72,
   "metadata": {},
   "outputs": [
    {
     "name": "stdout",
     "output_type": "stream",
     "text": [
      "The output array is: \n",
      " [[1 1 3 3 1]\n",
      " [2 2 4 4 1]\n",
      " [3 3 5 5 1]\n",
      " [1 2 3 4 2]\n",
      " [2 3 4 5 2]\n",
      " [1 2 3 4 2]\n",
      " [2 3 4 5 2]]\n"
     ]
    }
   ],
   "source": [
    "output = find_all_repeats(thresh_mat, bandwidth_vec)\n",
    "\n",
    "print(\"The output array is: \\n\", output )"
   ]
  },
  {
   "cell_type": "markdown",
   "metadata": {},
   "source": [
    "## find_complete_list_anno_only\n",
    "\n",
    "`find_complete_list_anno_only` finds annotations for all pairs of repeats found in `find_all_repeats.py`. This list contains all the pairs of repeated structures with their start/end indices and lengths.\n",
    "\n",
    "The inputs for the function are: \n",
    "\n",
    "- __pair_list__ (np.ndarray): Pairs of repeats \n",
    "- __song_length__ (int): Number of audio shingles\n",
    "\n",
    "The output for the function is: \n",
    "\n",
    "- __out_lst__ (np.ndarray): Pairs of repeats with added smaller repeats and annotations "
   ]
  },
  {
   "cell_type": "code",
   "execution_count": 73,
   "metadata": {},
   "outputs": [
    {
     "name": "stdout",
     "output_type": "stream",
     "text": [
      "The pairs of repeats are: \n",
      " [[ 3  3  5  5  1]\n",
      " [ 2  2  8  8  1]\n",
      " [ 3  3  9  9  1]\n",
      " [ 2  2 15 15  1]\n",
      " [ 8  8 15 15  1]\n",
      " [ 4  4 17 17  1]\n",
      " [ 2  3  8  9  2]\n",
      " [ 3  4  9 10  2]\n",
      " [ 2  3 15 16  2]\n",
      " [ 8  9 15 16  2]\n",
      " [ 3  4 16 17  2]\n",
      " [ 2  4  8 10  3]\n",
      " [ 3  5  9 11  3]\n",
      " [ 7  9 14 16  3]\n",
      " [ 2  4 15 17  3]\n",
      " [ 3  5 16 18  3]\n",
      " [ 9 11 16 18  3]\n",
      " [ 7 10 14 17  4]\n",
      " [ 7 11 14 18  5]\n",
      " [ 8 12 15 19  5]\n",
      " [ 7 12 14 19  6]]\n",
      "The number of audio shingles in the song are: 19\n"
     ]
    }
   ],
   "source": [
    "pair_list = np.array([[3,  3,  5,  5, 1],\n",
    "                      [2,  2,  8,  8, 1],\n",
    "                      [3,  3,  9,  9, 1],\n",
    "                      [2,  2, 15, 15, 1],\n",
    "                      [8,  8, 15, 15, 1],\n",
    "                      [4,  4, 17, 17, 1],\n",
    "                      [2,  3,  8,  9, 2],\n",
    "                      [3,  4,  9, 10, 2],\n",
    "                      [2,  3, 15, 16, 2],\n",
    "                      [8,  9, 15, 16, 2],\n",
    "                      [3,  4, 16, 17, 2],\n",
    "                      [2,  4,  8, 10, 3],\n",
    "                      [3,  5,  9, 11, 3],\n",
    "                      [7,  9, 14, 16, 3],\n",
    "                      [2,  4, 15, 17, 3],\n",
    "                      [3,  5, 16, 18, 3],\n",
    "                      [9, 11, 16, 18, 3],\n",
    "                      [7, 10, 14, 17, 4],\n",
    "                      [7, 11, 14, 18, 5],\n",
    "                      [8, 12, 15, 19, 5],\n",
    "                      [7, 12, 14, 19, 6]])\n",
    "song_length = 19\n",
    "\n",
    "print(\"The pairs of repeats are: \\n\", pair_list)\n",
    "print(\"The number of audio shingles in the song are:\", song_length)"
   ]
  },
  {
   "cell_type": "code",
   "execution_count": 74,
   "metadata": {},
   "outputs": [
    {
     "name": "stdout",
     "output_type": "stream",
     "text": [
      "The output array is: \n",
      " [[ 2  2  8  8  1  1]\n",
      " [ 2  2 15 15  1  1]\n",
      " [ 8  8 15 15  1  1]\n",
      " [ 3  3  5  5  1  2]\n",
      " [ 3  3  9  9  1  2]\n",
      " [ 4  4 17 17  1  3]\n",
      " [ 2  3  8  9  2  1]\n",
      " [ 2  3 15 16  2  1]\n",
      " [ 8  9 15 16  2  1]\n",
      " [ 3  4  9 10  2  2]\n",
      " [ 3  4 16 17  2  2]\n",
      " [ 2  4  8 10  3  1]\n",
      " [ 2  4 15 17  3  1]\n",
      " [ 3  5  9 11  3  2]\n",
      " [ 3  5 16 18  3  2]\n",
      " [ 9 11 16 18  3  2]\n",
      " [ 7  9 14 16  3  3]\n",
      " [ 7 10 14 17  4  1]\n",
      " [ 7 11 14 18  5  1]\n",
      " [ 8 12 15 19  5  2]\n",
      " [ 7 12 14 19  6  1]]\n"
     ]
    }
   ],
   "source": [
    "output = find_complete_list_anno_only(pair_list, song_length)\n",
    "\n",
    "print(\"The output array is: \\n\", output)"
   ]
  }
 ],
 "metadata": {
  "interpreter": {
   "hash": "f9558a7a9c0790c2334a9072034da5d30cf10fd46d803cfe3584dbca0180200c"
  },
  "kernelspec": {
   "display_name": "Python 3.9.5 64-bit",
   "name": "python3"
  },
  "language_info": {
   "codemirror_mode": {
    "name": "ipython",
    "version": 3
   },
   "file_extension": ".py",
   "mimetype": "text/x-python",
   "name": "python",
   "nbconvert_exporter": "python",
   "pygments_lexer": "ipython3",
   "version": "3.9.5"
  }
 },
 "nbformat": 4,
 "nbformat_minor": 2
}
